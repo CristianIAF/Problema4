{
  "nbformat": 4,
  "nbformat_minor": 0,
  "metadata": {
    "colab": {
      "provenance": []
    },
    "kernelspec": {
      "name": "python3",
      "display_name": "Python 3"
    },
    "language_info": {
      "name": "python"
    }
  },
  "cells": [
    {
      "cell_type": "markdown",
      "source": [
        "###4 - Recoge nuevamente 5 números enteros e imprime la lista en orden inverso al enviado."
      ],
      "metadata": {
        "id": "o9F7LQn1eVjL"
      }
    },
    {
      "cell_type": "code",
      "source": [
        "# Lista de gastos de la empresa de papel\n",
        "gastos = [2172.54, 3701.35, 3518.09, 3456.61, 3249.38,\n",
        "          2840.82, 3891.45, 3075.26, 2317.64, 3219.08]\n",
        "\n",
        "lista = []\n",
        "\n",
        "for _ in range(5):\n",
        "    while True:\n",
        "        try:\n",
        "            numero = int(input(\"Ingrese un número entero: \"))\n",
        "            lista.append(numero)\n",
        "            break\n",
        "        except ValueError:\n",
        "            print(\"Valor incorrecto. Por favor, ingrese un número entero.\")\n",
        "\n",
        "# Corrección clave: invertir la lista antes de imprimir.\n",
        "lista_invertida = lista[::-1]\n",
        "print(\"\\nLista original:\", lista)\n",
        "print(\"Lista en orden inverso:\", lista_invertida)             # Aquí se aplica el cambio"
      ],
      "metadata": {
        "colab": {
          "base_uri": "https://localhost:8080/"
        },
        "id": "jQEwsD1helJt",
        "outputId": "74bca0de-d6f7-4dce-827f-3ef2ecb92c87"
      },
      "execution_count": 1,
      "outputs": [
        {
          "output_type": "stream",
          "name": "stdout",
          "text": [
            "Ingrese un número entero: guau\n",
            "Valor incorrecto. Por favor, ingrese un número entero.\n",
            "Ingrese un número entero: -4\n",
            "Ingrese un número entero: 5\n",
            "Ingrese un número entero: -79\n",
            "Ingrese un número entero: 8\n",
            "Ingrese un número entero: 22\n",
            "\n",
            "Lista original: [-4, 5, -79, 8, 22]\n",
            "Lista en orden inverso: [22, 8, -79, 5, -4]\n"
          ]
        }
      ]
    },
    {
      "cell_type": "code",
      "source": [],
      "metadata": {
        "id": "hEaC_0vXhnak"
      },
      "execution_count": null,
      "outputs": []
    }
  ]
}